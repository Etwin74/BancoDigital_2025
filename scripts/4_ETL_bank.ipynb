{
 "cells": [
  {
   "cell_type": "code",
   "execution_count": null,
   "id": "7d10dd2d",
   "metadata": {},
   "outputs": [],
   "source": [
    "import pandas as pd\n",
    "from pathlib import Path\n",
    "\n",
    "# 1️⃣ Definir rutas\n",
    "data_path = Path.cwd() / \"../data\"\n",
    "database_path = Path.cwd() / \"../database\"\n",
    "database_path.mkdir(parents=True, exist_ok=True)\n",
    "\n",
    "input_file = data_path / \"bancos.csv\"\n",
    "output_file = database_path / \"bancos_clean.csv\"\n",
    "\n",
    "# 2️⃣ Leer el archivo CSV original\n",
    "df = pd.read_csv(input_file)\n",
    "\n",
    "# 3️⃣ Mostrar cantidad de valores nulos antes\n",
    "print(\"🔍 Valores nulos antes de la limpieza:\")\n",
    "print(df.isnull().sum())\n",
    "\n",
    "# 4️⃣ Reemplazar valores nulos en la columna TipoCuenta\n",
    "df[\"TipoCuenta\"] = df[\"TipoCuenta\"].fillna(\"CTA AHORROS SOLES\")\n",
    "\n",
    "# 5️⃣ Eliminar filas completamente vacías o duplicadas (opcional)\n",
    "df.dropna(how=\"all\", inplace=True)\n",
    "df.drop_duplicates(inplace=True)\n",
    "\n",
    "# 6️⃣ Mostrar resumen después de la limpieza\n",
    "print(\"\\n✅ Después de la limpieza:\")\n",
    "print(df.isnull().sum())\n",
    "\n",
    "# 7️⃣ Guardar el nuevo archivo limpio\n",
    "df.to_csv(output_file, index=False, encoding=\"utf-8\")\n",
    "print(f\"\\n📁 Archivo limpio guardado en: {output_file}\")\n",
    "\n"
   ]
  }
 ],
 "metadata": {
  "kernelspec": {
   "display_name": "myenv",
   "language": "python",
   "name": "python3"
  },
  "language_info": {
   "name": "python",
   "version": "3.13.7"
  }
 },
 "nbformat": 4,
 "nbformat_minor": 5
}
