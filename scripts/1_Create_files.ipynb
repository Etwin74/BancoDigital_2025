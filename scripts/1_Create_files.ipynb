{
 "cells": [
  {
   "cell_type": "markdown",
   "id": "f6071d0a",
   "metadata": {},
   "source": [
    "🧰 Librerías necesarias\n",
    "Para crear carpetas o directorios directamente desde Python, no necesitas instalar nada adicional.\n",
    "Usarás librerías nativas del sistema operativo:\n",
    "•\tos → para manejar rutas, crear carpetas, listar archivos, etc.\n",
    "•\tpathlib → más moderna, limpia y recomendada para proyectos nuevos (parte de la librería estándar también).\n"
   ]
  },
  {
   "cell_type": "code",
   "execution_count": 1,
   "id": "b997efab",
   "metadata": {},
   "outputs": [
    {
     "name": "stdout",
     "output_type": "stream",
     "text": [
      "Carpeta creada en: d:\\BancoDigital_2025B\\scripts\\../data\n"
     ]
    }
   ],
   "source": [
    "# 🧩 Crear carpeta “data” automáticamente\n",
    "# ✅ Opción 1: usando os\n",
    "import os\n",
    "\n",
    "# Ruta de la carpeta \"data\" dentro del proyecto actual\n",
    "ruta_carpeta = os.path.join(os.getcwd(), \"../data\")\n",
    "\n",
    "# Crear carpeta si no existe\n",
    "if not os.path.exists(ruta_carpeta):\n",
    "    os.makedirs(ruta_carpeta)\n",
    "    print(f\"Carpeta creada en: {ruta_carpeta}\")\n",
    "else:\n",
    "    print(\"La carpeta 'data' ya existe.\")\n"
   ]
  },
  {
   "cell_type": "code",
   "execution_count": 2,
   "id": "dda1a527",
   "metadata": {},
   "outputs": [
    {
     "name": "stdout",
     "output_type": "stream",
     "text": [
      "Carpeta creada en: d:\\BancoDigital_2025B\\scripts\\..\\database\n"
     ]
    }
   ],
   "source": [
    "#✅ Opción 2: usando pathlib (más moderno y elegante)\n",
    "from pathlib import Path\n",
    "\n",
    "# Definir la ruta de la carpeta \"database\"\n",
    "ruta_carpeta = Path.cwd() / \"../database\"\n",
    "\n",
    "# Crear la carpeta si no existe\n",
    "ruta_carpeta.mkdir(parents=True, exist_ok=True)\n",
    "\n",
    "print(f\"Carpeta creada en: {ruta_carpeta}\")\n"
   ]
  },
  {
   "cell_type": "code",
   "execution_count": 4,
   "id": "ce23e33e",
   "metadata": {},
   "outputs": [
    {
     "name": "stdout",
     "output_type": "stream",
     "text": [
      "✅ Carpeta 'data' lista en d:\\BancoDigital_2025B\\scripts\\..\\data\n",
      "✅ Carpeta 'database' lista en d:\\BancoDigital_2025B\\scripts\\..\\database\n",
      "✅ Carpeta 'scripts' lista en d:\\BancoDigital_2025B\\scripts\\..\\scripts\n",
      "✅ Carpeta 'docs' lista en d:\\BancoDigital_2025B\\scripts\\..\\docs\n",
      "✅ Carpeta 'Capturas' lista en d:\\BancoDigital_2025B\\scripts\\..\\Capturas\n"
     ]
    }
   ],
   "source": [
    "#Crear otras carpetas en la misma ejecución\n",
    "#Puedes crear toda la estructura del proyecto en segundos:\n",
    "from pathlib import Path\n",
    "\n",
    "# Rutas de carpetas del proyecto\n",
    "carpetas = [\"data\", \"database\", \"scripts\", \"docs\", \"Capturas\"]\n",
    "\n",
    "for carpeta in carpetas:\n",
    "    ruta = Path.cwd() / f\"../{carpeta}\"\n",
    "    ruta.mkdir(parents=True, exist_ok=True)\n",
    "    print(f\"✅ Carpeta '{carpeta}' lista en {ruta}\")\n"
   ]
  }
 ],
 "metadata": {
  "kernelspec": {
   "display_name": "myenv",
   "language": "python",
   "name": "python3"
  },
  "language_info": {
   "codemirror_mode": {
    "name": "ipython",
    "version": 3
   },
   "file_extension": ".py",
   "mimetype": "text/x-python",
   "name": "python",
   "nbconvert_exporter": "python",
   "pygments_lexer": "ipython3",
   "version": "3.13.7"
  }
 },
 "nbformat": 4,
 "nbformat_minor": 5
}
